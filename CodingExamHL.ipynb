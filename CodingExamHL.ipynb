{
 "cells": [
  {
   "cell_type": "code",
   "execution_count": 10,
   "metadata": {},
   "outputs": [],
   "source": [
    "import numpy as np\n",
    "from scipy.stats import norm\n",
    "\n",
    "def pricing_MC(S,K,r,mu,sigma,q,T,N,M):\n",
    "    dt=T/N\n",
    "    sqrdt=np.sqrt(dt)\n",
    "    payoffs=[]\n",
    "    for i in range(M):\n",
    "        logS=np.log(S)\n",
    "        trailing30=0\n",
    "        for j in range(N):\n",
    "            logS+=(r-q-0.5*sigma**2)*dt+sqrdt*sigma*norm.rvs()\n",
    "            if j>=N-31:\n",
    "                trailing30+=np.exp(logS)\n",
    "        payoffs.append(np.maximum(trailing30/30-K,0))\n",
    "    price=np.exp(-r*T)*sum(payoffs)/float(M)\n",
    "    return price"
   ]
  },
  {
   "cell_type": "code",
   "execution_count": 11,
   "metadata": {},
   "outputs": [
    {
     "data": {
      "text/plain": [
       "3.1324471436868424"
      ]
     },
     "execution_count": 11,
     "metadata": {},
     "output_type": "execute_result"
    }
   ],
   "source": [
    "pricing_MC(25,28,0.02,0.12,0.4,0,1,252,1000)"
   ]
  }
 ],
 "metadata": {
  "kernelspec": {
   "display_name": "Python 3",
   "language": "python",
   "name": "python3"
  },
  "language_info": {
   "codemirror_mode": {
    "name": "ipython",
    "version": 3
   },
   "file_extension": ".py",
   "mimetype": "text/x-python",
   "name": "python",
   "nbconvert_exporter": "python",
   "pygments_lexer": "ipython3",
   "version": "3.8.2"
  }
 },
 "nbformat": 4,
 "nbformat_minor": 4
}
