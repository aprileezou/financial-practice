{
 "cells": [
  {
   "cell_type": "code",
   "execution_count": 7,
   "metadata": {},
   "outputs": [],
   "source": [
    "#simulate brownian motion\n",
    "from scipy.stats import norm\n",
    "import math\n",
    "\n",
    "def sim_brownian_motion(T,N):\n",
    "    dt=T/N\n",
    "    sqrdt=math.sqrt(dt)\n",
    "    x=0\n",
    "    for k in range(N):\n",
    "        print(round(k*dt,2),x)\n",
    "        x=x+sqrdt*norm.rvs()"
   ]
  },
  {
   "cell_type": "code",
   "execution_count": 8,
   "metadata": {},
   "outputs": [
    {
     "name": "stdout",
     "output_type": "stream",
     "text": [
      "0.0 0\n",
      "0.05 0.05073573644246874\n",
      "0.1 0.002090768998819513\n",
      "0.15 -0.020860552154988984\n",
      "0.2 -0.3496373644217584\n",
      "0.25 0.03340153886020997\n",
      "0.3 -0.02512624153773025\n",
      "0.35 0.15652442599536814\n",
      "0.4 0.31647080101009917\n",
      "0.45 0.05479551933458798\n",
      "0.5 -0.15052643505807317\n",
      "0.55 -0.14483989367807645\n",
      "0.6 -0.135042160307088\n",
      "0.65 0.09285807189063386\n",
      "0.7 0.12850406119729452\n",
      "0.75 0.05414454528902665\n",
      "0.8 -0.1044162831841948\n",
      "0.85 -0.1983217003165374\n",
      "0.9 -0.13053507252883467\n",
      "0.95 -0.16514444954880775\n"
     ]
    }
   ],
   "source": [
    "sim_brownian_motion(1,20)"
   ]
  },
  {
   "cell_type": "code",
   "execution_count": 14,
   "metadata": {},
   "outputs": [],
   "source": [
    "#simulate GBM\n",
    "def sim_gbm(T,N,S,mu,sigma):\n",
    "    '''\n",
    "    mu: mean of return\n",
    "    sigma: std of return\n",
    "    '''\n",
    "    dt=T/N\n",
    "    sigsqrdt=sigma*math.sqrt(dt)\n",
    "    drift=(mu-0.5*sigma**2)*dt\n",
    "    logs=math.log(S)\n",
    "    for k in range(N):\n",
    "        print(round(k*dt,2),math.exp(logs))\n",
    "        logs=logs+drift+sigsqrdt*norm.rvs()"
   ]
  },
  {
   "cell_type": "code",
   "execution_count": 15,
   "metadata": {},
   "outputs": [
    {
     "name": "stdout",
     "output_type": "stream",
     "text": [
      "0.0 49.99999999999999\n",
      "0.05 51.27567014557494\n",
      "0.1 54.50781220083841\n",
      "0.15 57.73992407739632\n",
      "0.2 60.085910791922394\n",
      "0.25 63.96447675875789\n",
      "0.3 66.89793328426114\n",
      "0.35 69.92277310954645\n",
      "0.4 73.31374022253354\n",
      "0.45 76.7038704769544\n",
      "0.5 79.91783171212616\n",
      "0.55 84.42236305209124\n",
      "0.6 90.24208515961027\n",
      "0.65 93.17613566963459\n",
      "0.7 97.49801323429854\n",
      "0.75 103.7835483492889\n",
      "0.8 108.40767884023123\n",
      "0.85 115.05952742308398\n",
      "0.9 121.7616117899563\n",
      "0.95 130.03484794348185\n"
     ]
    }
   ],
   "source": [
    "sim_gbm(1,20,50,1,0.05)"
   ]
  },
  {
   "cell_type": "markdown",
   "metadata": {},
   "source": [
    "Could use Numpy cumsum to accelerate the process\n",
    "[Brownian Motion](https://scipy-cookbook.readthedocs.io/items/BrownianMotion.html)\n",
    "[Geometric Brownian Motion](https://towardsdatascience.com/simulating-stock-prices-in-python-using-geometric-brownian-motion-8dfd6e8c6b18)"
   ]
  },
  {
   "cell_type": "code",
   "execution_count": 17,
   "metadata": {},
   "outputs": [],
   "source": [
    "#black-sholes call\n",
    "import numpy as np\n",
    "from scipy.stats import norm\n",
    "\n",
    "def BS_Call(S,K,r,sigma,q,T):\n",
    "    d1=(np.log(S/K)+(r+0.5*sigma**2)*T)/(sigma*np.sqrt(T))\n",
    "    d2=d1-sigma*np.sqrt(T)\n",
    "    call=S*np.exp(-q*T)*norm.cdf(d1)-K*np.exp(-r*T)*norm.cdf(d2)\n",
    "    return call"
   ]
  },
  {
   "cell_type": "code",
   "execution_count": 18,
   "metadata": {},
   "outputs": [
    {
     "data": {
      "text/plain": [
       "14.459572400816924"
      ]
     },
     "execution_count": 18,
     "metadata": {},
     "output_type": "execute_result"
    }
   ],
   "source": [
    "BS_Call(50,40,0.05,0.3,0.02,2)"
   ]
  },
  {
   "cell_type": "code",
   "execution_count": 21,
   "metadata": {},
   "outputs": [],
   "source": [
    "#Europe Call_GARCH_Monte Carlo\n",
    "import numpy as np\n",
    "from scipy.stats import norm\n",
    "\n",
    "def Eur_Call_GARCH_MC(S, K, r, sigma0, q, T, N, kappa, theta, lamda, M):\n",
    "    '''\n",
    "             S = initial stock price\n",
    "'            K = strike price\n",
    "'            r = risk-free rate\n",
    "'            sigma0 = initial volatility\n",
    "'            q = dividend yield\n",
    "'            T = time to maturity\n",
    "'            N = number of time periods\n",
    "'            kappa = GARCH parameter\n",
    "'            theta = GARCH parameter\n",
    "'            lambda = GARCH parameter\n",
    "'            M = number of simulations\n",
    "    '''\n",
    "    \n",
    "    dt=T/N\n",
    "    sqrdt=np.sqrt(dt)\n",
    "    a=kappa*theta\n",
    "    b=(1-kappa)*lamda\n",
    "    c=(1-kappa)*(1-lamda)\n",
    "    payoffs=[]\n",
    "    for i in range(M):\n",
    "        logS=np.log(S)\n",
    "        sigma=sigma0\n",
    "        for j in range(N):\n",
    "            y=sigma*norm.rvs()\n",
    "            logS+=(r-q-0.5*sigma**2)*dt+sqrdt*y\n",
    "            sigma=np.sqrt(a+b*y**2+c*sigma**2)\n",
    "        payoffs.append(np.maximum(np.exp(logS)-K,0))\n",
    "    price = np.exp(-r*T)*sum(payoffs)/float(M)\n",
    "    return round(price,4)"
   ]
  },
  {
   "cell_type": "code",
   "execution_count": 22,
   "metadata": {},
   "outputs": [
    {
     "data": {
      "text/plain": [
       "14.1607"
      ]
     },
     "execution_count": 22,
     "metadata": {},
     "output_type": "execute_result"
    }
   ],
   "source": [
    "Eur_Call_GARCH_MC(50,40,0.05,0.3,0.02,2,24,0.5,0.09,0.5,1000)"
   ]
  },
  {
   "cell_type": "code",
   "execution_count": 5,
   "metadata": {},
   "outputs": [],
   "source": [
    "#Europe Call_Binomial\n",
    "import numpy as np\n",
    "\n",
    "def Eur_Call_Binomial(S0,K,r,sigma,q,T,N):\n",
    "    dt=T/N\n",
    "    u=np.exp(sigma*np.sqrt(dt))\n",
    "    d=1/u\n",
    "    pu=(np.exp((r-q)*dt)-d)/(u-d)\n",
    "    pd=1-pu\n",
    "    \n",
    "    #start from the bottom node at last date\n",
    "    S=S0*d**N\n",
    "    prob=pd**N\n",
    "    CallV=np.maximum(S-K,0)*prob\n",
    "    \n",
    "    #step up over nodes at last date\n",
    "    for i in range(1,N):\n",
    "        S=S*u**2\n",
    "        prob=prob*(pu/pd)*(N-i+1)/i\n",
    "        CallV=CallV+prob*np.maximum(S-K,0) #sum weighted values at last date\n",
    "    \n",
    "    price = np.exp(-r*T)*CallV\n",
    "    return round(price,4)"
   ]
  },
  {
   "cell_type": "code",
   "execution_count": 6,
   "metadata": {},
   "outputs": [
    {
     "name": "stdout",
     "output_type": "stream",
     "text": [
      "0.00055882100002691 seconds\n"
     ]
    }
   ],
   "source": [
    "import timeit\n",
    "start_time=timeit.default_timer()\n",
    "Eur_Call_Binomial(50,40,0.05,0.3,0.02,2,50)\n",
    "print(timeit.default_timer()-start_time,\"seconds\")"
   ]
  },
  {
   "cell_type": "markdown",
   "metadata": {},
   "source": [
    "Euro_Binomial Option Pricing with GARCH and classes: [Binomial Option Pricing Model](https://medium.com/engineer-quant/binomial-option-pricing-model-5e6b9e91c7da)"
   ]
  },
  {
   "cell_type": "code",
   "execution_count": 15,
   "metadata": {},
   "outputs": [],
   "source": [
    "#American Put_Binomial\n",
    "def Ame_Put_Binomial(S0,K,r,sigma,q,T,N):\n",
    "    dt=T/N\n",
    "    u=np.exp(sigma*np.sqrt(dt))\n",
    "    d=1/u\n",
    "    pu=(np.exp((r-q)*dt)-d)/(u-d)\n",
    "    pd=1-pu\n",
    "    \n",
    "    #start from the bottom node at last date\n",
    "    #S=S0*d**N\n",
    "    #PutV=np.maximum(K-S,0)\n",
    "    #step up over nodes at last date\n",
    "    \n",
    "    #put values at the last date\n",
    "    PutV=np.asarray([np.maximum(K-S0*u**j*d**(N-j),0) for j in range(N+1)])\n",
    "    \n",
    "    #backward\n",
    "    stock = np.asarray([K-S0*u**j*d**(N-j) for j in range(N+1)])\n",
    "    for i in range(N-1,-1,-1):\n",
    "        stock[:]=stock[:]*u\n",
    "        PutV[:-1]=np.maximum(stock[:],np.exp(-r*dt)*(pu*PutV[1:]+pd*PutV[:-1])) #some problems here with the row numbers\n",
    "        \n",
    "    return PutV[0]"
   ]
  },
  {
   "cell_type": "code",
   "execution_count": 16,
   "metadata": {},
   "outputs": [
    {
     "ename": "ValueError",
     "evalue": "operands could not be broadcast together with shapes (51,) (50,) ",
     "output_type": "error",
     "traceback": [
      "\u001b[1;31m---------------------------------------------------------------------------\u001b[0m",
      "\u001b[1;31mValueError\u001b[0m                                Traceback (most recent call last)",
      "\u001b[1;32m<ipython-input-16-053e9823634e>\u001b[0m in \u001b[0;36m<module>\u001b[1;34m\u001b[0m\n\u001b[1;32m----> 1\u001b[1;33m \u001b[0mAme_Put_Binomial\u001b[0m\u001b[1;33m(\u001b[0m\u001b[1;36m50\u001b[0m\u001b[1;33m,\u001b[0m\u001b[1;36m40\u001b[0m\u001b[1;33m,\u001b[0m\u001b[1;36m0.05\u001b[0m\u001b[1;33m,\u001b[0m\u001b[1;36m0.3\u001b[0m\u001b[1;33m,\u001b[0m\u001b[1;36m0.02\u001b[0m\u001b[1;33m,\u001b[0m\u001b[1;36m2\u001b[0m\u001b[1;33m,\u001b[0m\u001b[1;36m50\u001b[0m\u001b[1;33m)\u001b[0m\u001b[1;33m\u001b[0m\u001b[1;33m\u001b[0m\u001b[0m\n\u001b[0m",
      "\u001b[1;32m<ipython-input-15-11f66ad11cab>\u001b[0m in \u001b[0;36mAme_Put_Binomial\u001b[1;34m(S0, K, r, sigma, q, T, N)\u001b[0m\n\u001b[0;32m     19\u001b[0m     \u001b[1;32mfor\u001b[0m \u001b[0mi\u001b[0m \u001b[1;32min\u001b[0m \u001b[0mrange\u001b[0m\u001b[1;33m(\u001b[0m\u001b[0mN\u001b[0m\u001b[1;33m-\u001b[0m\u001b[1;36m1\u001b[0m\u001b[1;33m,\u001b[0m\u001b[1;33m-\u001b[0m\u001b[1;36m1\u001b[0m\u001b[1;33m,\u001b[0m\u001b[1;33m-\u001b[0m\u001b[1;36m1\u001b[0m\u001b[1;33m)\u001b[0m\u001b[1;33m:\u001b[0m\u001b[1;33m\u001b[0m\u001b[1;33m\u001b[0m\u001b[0m\n\u001b[0;32m     20\u001b[0m         \u001b[0mstock\u001b[0m\u001b[1;33m[\u001b[0m\u001b[1;33m:\u001b[0m\u001b[1;33m]\u001b[0m\u001b[1;33m=\u001b[0m\u001b[0mstock\u001b[0m\u001b[1;33m[\u001b[0m\u001b[1;33m:\u001b[0m\u001b[1;33m]\u001b[0m\u001b[1;33m*\u001b[0m\u001b[0mu\u001b[0m\u001b[1;33m\u001b[0m\u001b[1;33m\u001b[0m\u001b[0m\n\u001b[1;32m---> 21\u001b[1;33m         \u001b[0mPutV\u001b[0m\u001b[1;33m[\u001b[0m\u001b[1;33m:\u001b[0m\u001b[1;33m-\u001b[0m\u001b[1;36m1\u001b[0m\u001b[1;33m]\u001b[0m\u001b[1;33m=\u001b[0m\u001b[0mnp\u001b[0m\u001b[1;33m.\u001b[0m\u001b[0mmaximum\u001b[0m\u001b[1;33m(\u001b[0m\u001b[0mstock\u001b[0m\u001b[1;33m[\u001b[0m\u001b[1;33m:\u001b[0m\u001b[1;33m]\u001b[0m\u001b[1;33m,\u001b[0m\u001b[0mnp\u001b[0m\u001b[1;33m.\u001b[0m\u001b[0mexp\u001b[0m\u001b[1;33m(\u001b[0m\u001b[1;33m-\u001b[0m\u001b[0mr\u001b[0m\u001b[1;33m*\u001b[0m\u001b[0mdt\u001b[0m\u001b[1;33m)\u001b[0m\u001b[1;33m*\u001b[0m\u001b[1;33m(\u001b[0m\u001b[0mpu\u001b[0m\u001b[1;33m*\u001b[0m\u001b[0mPutV\u001b[0m\u001b[1;33m[\u001b[0m\u001b[1;36m1\u001b[0m\u001b[1;33m:\u001b[0m\u001b[1;33m]\u001b[0m\u001b[1;33m+\u001b[0m\u001b[0mpd\u001b[0m\u001b[1;33m*\u001b[0m\u001b[0mPutV\u001b[0m\u001b[1;33m[\u001b[0m\u001b[1;33m:\u001b[0m\u001b[1;33m-\u001b[0m\u001b[1;36m1\u001b[0m\u001b[1;33m]\u001b[0m\u001b[1;33m)\u001b[0m\u001b[1;33m)\u001b[0m\u001b[1;33m\u001b[0m\u001b[1;33m\u001b[0m\u001b[0m\n\u001b[0m\u001b[0;32m     22\u001b[0m \u001b[1;33m\u001b[0m\u001b[0m\n\u001b[0;32m     23\u001b[0m     \u001b[1;32mreturn\u001b[0m \u001b[0mPutV\u001b[0m\u001b[1;33m[\u001b[0m\u001b[1;36m0\u001b[0m\u001b[1;33m]\u001b[0m\u001b[1;33m\u001b[0m\u001b[1;33m\u001b[0m\u001b[0m\n",
      "\u001b[1;31mValueError\u001b[0m: operands could not be broadcast together with shapes (51,) (50,) "
     ]
    }
   ],
   "source": [
    "Ame_Put_Binomial(50,40,0.05,0.3,0.02,2,50)"
   ]
  },
  {
   "cell_type": "markdown",
   "metadata": {},
   "source": [
    "[American Option Pricing](http://gosmej1977.blogspot.com/2013/02/american-options.html)"
   ]
  }
 ],
 "metadata": {
  "kernelspec": {
   "display_name": "Python 3",
   "language": "python",
   "name": "python3"
  },
  "language_info": {
   "codemirror_mode": {
    "name": "ipython",
    "version": 3
   },
   "file_extension": ".py",
   "mimetype": "text/x-python",
   "name": "python",
   "nbconvert_exporter": "python",
   "pygments_lexer": "ipython3",
   "version": "3.8.2"
  }
 },
 "nbformat": 4,
 "nbformat_minor": 2
}
